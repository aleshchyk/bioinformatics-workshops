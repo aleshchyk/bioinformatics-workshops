{
 "cells": [
  {
   "cell_type": "markdown",
   "metadata": {},
   "source": [
    "# Machine Learning workshop\n",
    "\n",
    "In this workshop, we will study GSE53987 dataset on Bipolar disorder (BD) and major depressive disorder (MDD) and schizophrenia. You can download it [here](https://github.com/BRITE-REU/programming-workshops/blob/master/source/workshops/04_Machine_learning/data/GSE53987_combined.csv).\n",
    "\n",
    "In total there are 205 rows consisting of 19 individuals diagnosed with BPD, 19 with MDD, 19 schizophrenia and 19 controls. Each sample has gene expression from 3 tissues (post-mortem brain). There are a total of 13768 genes (numeric features) and 10 meta features and 1 ID (GEO sample accession).\n",
    "\n",
    "- Age\n",
    "- Race (W for white and B for black)\n",
    "- Gender is F for female and M for male\n",
    "- Ph is the ph of the brain tissue\n",
    "- Pmi is the post mortal interval\n",
    "- Rin is the RNA integrity number\n",
    "- Patient is unique for each patient. Each patient has up to 3 tissue samples. The patient ID is written as disease followed by a number from 1 to 19\n",
    "- Tissue is the tissue the expression was obtained from.\n",
    "- Disease.state is the class of disease the patient belongs to: bipolar, schizophrenia, depression or control.\n",
    "- source.name is the combination of th etissue and disease.state"
   ]
  },
  {
   "cell_type": "code",
   "execution_count": 1,
   "metadata": {},
   "outputs": [],
   "source": [
    "%matplotlib inline\n",
    "import pandas as pd\n",
    "import matplotlib.pyplot as plt\n",
    "import seaborn as sns"
   ]
  },
  {
   "cell_type": "code",
   "execution_count": null,
   "metadata": {},
   "outputs": [],
   "source": []
  },
  {
   "cell_type": "code",
   "execution_count": 3,
   "metadata": {},
   "outputs": [],
   "source": [
    "# load data (change location if necessary)\n",
    "data = pd.read_csv(\"GSE53987_combined.csv\", index_col=0)"
   ]
  },
  {
   "cell_type": "code",
   "execution_count": 4,
   "metadata": {},
   "outputs": [
    {
     "data": {
      "text/html": [
       "<div>\n",
       "<style scoped>\n",
       "    .dataframe tbody tr th:only-of-type {\n",
       "        vertical-align: middle;\n",
       "    }\n",
       "\n",
       "    .dataframe tbody tr th {\n",
       "        vertical-align: top;\n",
       "    }\n",
       "\n",
       "    .dataframe thead th {\n",
       "        text-align: right;\n",
       "    }\n",
       "</style>\n",
       "<table border=\"1\" class=\"dataframe\">\n",
       "  <thead>\n",
       "    <tr style=\"text-align: right;\">\n",
       "      <th></th>\n",
       "      <th>Patient</th>\n",
       "      <th>Source.name</th>\n",
       "      <th>Age</th>\n",
       "      <th>Gender</th>\n",
       "      <th>Race</th>\n",
       "      <th>Pmi</th>\n",
       "      <th>Ph</th>\n",
       "      <th>Rin</th>\n",
       "      <th>Tissue</th>\n",
       "      <th>Disease.state</th>\n",
       "      <th>...</th>\n",
       "      <th>ZSWIM8.AS1</th>\n",
       "      <th>ZW10</th>\n",
       "      <th>ZWILCH</th>\n",
       "      <th>ZWINT</th>\n",
       "      <th>ZXDA</th>\n",
       "      <th>ZXDB</th>\n",
       "      <th>ZXDC</th>\n",
       "      <th>ZYX</th>\n",
       "      <th>ZZEF1</th>\n",
       "      <th>ZZZ3</th>\n",
       "    </tr>\n",
       "  </thead>\n",
       "  <tbody>\n",
       "    <tr>\n",
       "      <th>GSM1304852</th>\n",
       "      <td>bipolar_10</td>\n",
       "      <td>hippocampus, bipolar disorder</td>\n",
       "      <td>52</td>\n",
       "      <td>M</td>\n",
       "      <td>W</td>\n",
       "      <td>23.5</td>\n",
       "      <td>6.7</td>\n",
       "      <td>6.3</td>\n",
       "      <td>hippocampus</td>\n",
       "      <td>Bipolar disorder</td>\n",
       "      <td>...</td>\n",
       "      <td>5.985163</td>\n",
       "      <td>6.428342</td>\n",
       "      <td>3.909310</td>\n",
       "      <td>6.046175</td>\n",
       "      <td>4.277563</td>\n",
       "      <td>4.107621</td>\n",
       "      <td>6.688651</td>\n",
       "      <td>7.228978</td>\n",
       "      <td>5.891636</td>\n",
       "      <td>7.982137</td>\n",
       "    </tr>\n",
       "    <tr>\n",
       "      <th>GSM1304853</th>\n",
       "      <td>bipolar_11</td>\n",
       "      <td>hippocampus, bipolar disorder</td>\n",
       "      <td>50</td>\n",
       "      <td>F</td>\n",
       "      <td>W</td>\n",
       "      <td>11.7</td>\n",
       "      <td>6.4</td>\n",
       "      <td>6.8</td>\n",
       "      <td>hippocampus</td>\n",
       "      <td>Bipolar disorder</td>\n",
       "      <td>...</td>\n",
       "      <td>6.177670</td>\n",
       "      <td>6.537507</td>\n",
       "      <td>4.552976</td>\n",
       "      <td>7.335697</td>\n",
       "      <td>4.358375</td>\n",
       "      <td>4.132819</td>\n",
       "      <td>6.475851</td>\n",
       "      <td>7.028054</td>\n",
       "      <td>5.905446</td>\n",
       "      <td>7.891166</td>\n",
       "    </tr>\n",
       "    <tr>\n",
       "      <th>GSM1304854</th>\n",
       "      <td>bipolar_12</td>\n",
       "      <td>hippocampus, bipolar disorder</td>\n",
       "      <td>28</td>\n",
       "      <td>F</td>\n",
       "      <td>W</td>\n",
       "      <td>22.3</td>\n",
       "      <td>6.3</td>\n",
       "      <td>7.7</td>\n",
       "      <td>hippocampus</td>\n",
       "      <td>Bipolar disorder</td>\n",
       "      <td>...</td>\n",
       "      <td>5.544327</td>\n",
       "      <td>6.732762</td>\n",
       "      <td>5.078011</td>\n",
       "      <td>7.470260</td>\n",
       "      <td>4.405250</td>\n",
       "      <td>4.137028</td>\n",
       "      <td>6.020157</td>\n",
       "      <td>6.810143</td>\n",
       "      <td>5.610422</td>\n",
       "      <td>7.940210</td>\n",
       "    </tr>\n",
       "    <tr>\n",
       "      <th>GSM1304855</th>\n",
       "      <td>bipolar_13</td>\n",
       "      <td>hippocampus, bipolar disorder</td>\n",
       "      <td>55</td>\n",
       "      <td>F</td>\n",
       "      <td>W</td>\n",
       "      <td>17.5</td>\n",
       "      <td>6.4</td>\n",
       "      <td>7.6</td>\n",
       "      <td>hippocampus</td>\n",
       "      <td>Bipolar disorder</td>\n",
       "      <td>...</td>\n",
       "      <td>5.978466</td>\n",
       "      <td>6.913840</td>\n",
       "      <td>4.864570</td>\n",
       "      <td>7.175861</td>\n",
       "      <td>4.206593</td>\n",
       "      <td>4.005465</td>\n",
       "      <td>6.586425</td>\n",
       "      <td>6.818529</td>\n",
       "      <td>5.769763</td>\n",
       "      <td>7.987298</td>\n",
       "    </tr>\n",
       "    <tr>\n",
       "      <th>GSM1304856</th>\n",
       "      <td>bipolar_14</td>\n",
       "      <td>hippocampus, bipolar disorder</td>\n",
       "      <td>58</td>\n",
       "      <td>M</td>\n",
       "      <td>W</td>\n",
       "      <td>27.7</td>\n",
       "      <td>6.8</td>\n",
       "      <td>7.0</td>\n",
       "      <td>hippocampus</td>\n",
       "      <td>Bipolar disorder</td>\n",
       "      <td>...</td>\n",
       "      <td>6.138507</td>\n",
       "      <td>6.756435</td>\n",
       "      <td>4.203565</td>\n",
       "      <td>7.032669</td>\n",
       "      <td>4.284513</td>\n",
       "      <td>4.128175</td>\n",
       "      <td>6.633143</td>\n",
       "      <td>7.037504</td>\n",
       "      <td>5.926310</td>\n",
       "      <td>8.002489</td>\n",
       "    </tr>\n",
       "  </tbody>\n",
       "</table>\n",
       "<p>5 rows × 13778 columns</p>\n",
       "</div>"
      ],
      "text/plain": [
       "               Patient                    Source.name  Age Gender Race   Pmi  \\\n",
       "GSM1304852  bipolar_10  hippocampus, bipolar disorder   52      M    W  23.5   \n",
       "GSM1304853  bipolar_11  hippocampus, bipolar disorder   50      F    W  11.7   \n",
       "GSM1304854  bipolar_12  hippocampus, bipolar disorder   28      F    W  22.3   \n",
       "GSM1304855  bipolar_13  hippocampus, bipolar disorder   55      F    W  17.5   \n",
       "GSM1304856  bipolar_14  hippocampus, bipolar disorder   58      M    W  27.7   \n",
       "\n",
       "             Ph  Rin       Tissue     Disease.state  ...  ZSWIM8.AS1  \\\n",
       "GSM1304852  6.7  6.3  hippocampus  Bipolar disorder  ...    5.985163   \n",
       "GSM1304853  6.4  6.8  hippocampus  Bipolar disorder  ...    6.177670   \n",
       "GSM1304854  6.3  7.7  hippocampus  Bipolar disorder  ...    5.544327   \n",
       "GSM1304855  6.4  7.6  hippocampus  Bipolar disorder  ...    5.978466   \n",
       "GSM1304856  6.8  7.0  hippocampus  Bipolar disorder  ...    6.138507   \n",
       "\n",
       "                ZW10    ZWILCH     ZWINT      ZXDA      ZXDB      ZXDC  \\\n",
       "GSM1304852  6.428342  3.909310  6.046175  4.277563  4.107621  6.688651   \n",
       "GSM1304853  6.537507  4.552976  7.335697  4.358375  4.132819  6.475851   \n",
       "GSM1304854  6.732762  5.078011  7.470260  4.405250  4.137028  6.020157   \n",
       "GSM1304855  6.913840  4.864570  7.175861  4.206593  4.005465  6.586425   \n",
       "GSM1304856  6.756435  4.203565  7.032669  4.284513  4.128175  6.633143   \n",
       "\n",
       "                 ZYX     ZZEF1      ZZZ3  \n",
       "GSM1304852  7.228978  5.891636  7.982137  \n",
       "GSM1304853  7.028054  5.905446  7.891166  \n",
       "GSM1304854  6.810143  5.610422  7.940210  \n",
       "GSM1304855  6.818529  5.769763  7.987298  \n",
       "GSM1304856  7.037504  5.926310  8.002489  \n",
       "\n",
       "[5 rows x 13778 columns]"
      ]
     },
     "execution_count": 4,
     "metadata": {},
     "output_type": "execute_result"
    }
   ],
   "source": [
    "# Let's take a look at the first 5 rows of our dataframe\n",
    "data.head()"
   ]
  },
  {
   "cell_type": "markdown",
   "metadata": {},
   "source": [
    "## Task 1\n",
    "\n",
    "Check all the features. Which features are numeric, which are categorical? Understanding the nature of your data is a very important and necessary first step before proceeding with any analysis.\n",
    "\n",
    "- What type of distributions exist within the features? Is Gender a balanced feature (roughly equal representation between both men and women)? Are numerical values normally distributed? Explore numerical distributions by plotting histograms for Age, an Age + Gender histogram, and one of your favorite genes found in the dataset.\n",
    "\n",
    "- Some features display factor dependent values. That is, whether a subject is a male or a female might effect the expression patterns of a given gene. Explore factor and feature relationships by creating boxplots to observe how Age is dependent on Tissue, Gender and Disease.status."
   ]
  },
  {
   "cell_type": "code",
   "execution_count": null,
   "metadata": {},
   "outputs": [],
   "source": [
    "# Explore the distribution of genders\n"
   ]
  },
  {
   "cell_type": "code",
   "execution_count": null,
   "metadata": {},
   "outputs": [],
   "source": [
    "# Histogram of the age\n",
    "sns.distplot(data[\"Age\"])"
   ]
  },
  {
   "cell_type": "code",
   "execution_count": null,
   "metadata": {},
   "outputs": [],
   "source": [
    "# Histogram of the Age faceted by Gender\n",
    "g = sns.FacetGrid(data, col=\"Gender\", margin_titles=True)\n",
    "g.map(sns.distplot, \"Age\")"
   ]
  },
  {
   "cell_type": "code",
   "execution_count": null,
   "metadata": {},
   "outputs": [],
   "source": [
    "# Histogram of the gene expression of ZWINT across samples\n"
   ]
  },
  {
   "cell_type": "code",
   "execution_count": null,
   "metadata": {},
   "outputs": [],
   "source": [
    "# Relationship between age, disease state and gender\n",
    "sns.catplot(data=data, x=\"Disease.state\", y=\"Age\", hue=\"Gender\", kind=\"box\")"
   ]
  },
  {
   "cell_type": "code",
   "execution_count": null,
   "metadata": {},
   "outputs": [],
   "source": [
    "# # Relationship between age, disease state, tissue type and gender(facet)\n",
    "sns.catplot(data=data, x=\"Disease.state\", y=\"Age\", hue=\"Tissue\", col=\"Gender\", kind=\"box\")"
   ]
  },
  {
   "cell_type": "markdown",
   "metadata": {},
   "source": [
    "## Task 2\n",
    "\n",
    "Principal Component Analysis (PCA) is a commonly used technique to create linearly uncorrelated features from a set of possibly correlated features. The procedure is done in such a way that the first feature produced by PCA, the first principal component – PC1, explains the largest amount of variability possible. In this way, PCA is a dimension reduction technique, as the first few principal components often explain upwards of 90% of the variability found within a dataset. It is important to note that if we’re planning on predicting anything using the principal components, such as tissue type or Disease.status, those features should not be included in the input matrix. Before performing PCA, create a new data frame containing only explanatory values (i.e. the features we want to use to predict class membership).\n",
    "\n",
    "- Explore how much variation is explained by the principal components. How much variation is explained by the first two principal components? How many principal components might be required to explain 75%, 85%, 90%, 95%, and 99% of the variation within our dataset?\n",
    "\n",
    "- Visually explore this separation to plot the first two principal components and color samples according to Tissue and Disease.status. What effect does plotting the third principal component have on sample separation?\n",
    "\n",
    "- Subset the dataset into three disjoint datasets by Tissue. Run PCA on all three of these datasets, plot the first two principal components, and color the dots according to Disease.status. Does there appear to be a meaningful difference in the separation between disease classes between the three different datasets?\n"
   ]
  },
  {
   "cell_type": "code",
   "execution_count": null,
   "metadata": {},
   "outputs": [],
   "source": [
    "# Refer to: https://scikit-learn.org/stable/modules/generated/sklearn.decomposition.PCA.html\n",
    "from sklearn.decomposition import PCA"
   ]
  },
  {
   "cell_type": "code",
   "execution_count": null,
   "metadata": {},
   "outputs": [],
   "source": [
    "# Create a dataframe containing only the expression data (column 10 onwards)\n",
    "\n",
    "# Create a PCA class with 2 components\n",
    "\n",
    "# Fit and tranform the data\n"
   ]
  },
  {
   "cell_type": "code",
   "execution_count": null,
   "metadata": {},
   "outputs": [],
   "source": [
    "# How much variance is explanined by the principal components?\n"
   ]
  },
  {
   "cell_type": "code",
   "execution_count": null,
   "metadata": {},
   "outputs": [],
   "source": [
    "# Visualize the PCA plot color by Tissue or Disease.state\n",
    "g = sns.scatterplot(x=expression_decomp[:, 0], y=expression_decomp[:, 1], hue=data[\"Tissue\"])\n",
    "g.set_xlabel(\"PCA1\")\n",
    "g.set_ylabel(\"PCA2\")"
   ]
  },
  {
   "cell_type": "code",
   "execution_count": null,
   "metadata": {},
   "outputs": [],
   "source": [
    "# Hippocampus subset\n",
    "hippocampus = data[data[\"Tissue\"] == \"hippocampus\"]\n",
    "# Create a dataframe containing only the expression data\n",
    "\n",
    "# Create a PCA class with 2 components\n",
    "\n",
    "# Fit and tranform the data\n"
   ]
  },
  {
   "cell_type": "code",
   "execution_count": null,
   "metadata": {},
   "outputs": [],
   "source": [
    "# Visualize the hippocampus PCA plot\n",
    "g = sns.scatterplot(x=hippocampus_expression_decomp[:, 0], y=hippocampus_expression_decomp[:, 1], hue=hippocampus[\"Disease.state\"])\n",
    "g.set_xlabel(\"PCA1\")\n",
    "g.set_ylabel(\"PCA2\")"
   ]
  },
  {
   "cell_type": "markdown",
   "metadata": {},
   "source": [
    "## Task 3\n",
    "\n",
    "Feature selection is a commonly performed step in statistics/machine learning to distinguish the most informative variable to use in model creation. There are several different ways to perform feature selection, and many of these can be application specific. In this workshop we’ll explain two possible avenues for feature selection in gene expression data analysis: 1) removing the least variable features 2) univariate feature selection"
   ]
  },
  {
   "cell_type": "code",
   "execution_count": null,
   "metadata": {},
   "outputs": [],
   "source": [
    "# Refer to https://scikit-learn.org/stable/modules/feature_selection.html#feature-selection\n",
    "from sklearn.feature_selection import VarianceThreshold, SelectKBest, chi2"
   ]
  },
  {
   "cell_type": "code",
   "execution_count": null,
   "metadata": {},
   "outputs": [],
   "source": [
    "# Removing features with low variance (<0.1)\n",
    "sel = VarianceThreshold(threshold=0.1)\n",
    "expression_highvar = sel.fit_transform(expression)"
   ]
  },
  {
   "cell_type": "code",
   "execution_count": null,
   "metadata": {},
   "outputs": [],
   "source": [
    "# Univariate feature selection using the chi2 test\n",
    "target = data[\"Tissue\"]\n",
    "expression_kbest = SelectKBest(chi2, k=10).fit_transform(expression, target)"
   ]
  },
  {
   "cell_type": "markdown",
   "metadata": {},
   "source": [
    "## Task 4\n",
    "\n",
    "Unsupervised learning can be thought of as applying an algorithm to a dataset in order to discover latent structure that exists between samples. We’ve already been exposed to some of these algorithms via PCA. However, one of the most common techniques in machine learning, and especially bioinformatics, is clustering. Cluster the data using the k-means algorithm."
   ]
  },
  {
   "cell_type": "code",
   "execution_count": null,
   "metadata": {},
   "outputs": [],
   "source": [
    "# Refer to https://scikit-learn.org/stable/modules/generated/sklearn.cluster.KMeans.html\n",
    "from sklearn.cluster import KMeans"
   ]
  },
  {
   "cell_type": "code",
   "execution_count": null,
   "metadata": {},
   "outputs": [],
   "source": [
    "# Initialize a KMeans object with n_clusters=3\n",
    "\n",
    "# Fit data and get predictions\n"
   ]
  },
  {
   "cell_type": "code",
   "execution_count": null,
   "metadata": {},
   "outputs": [],
   "source": [
    "# Compare predicted tissue data to actual tissue data"
   ]
  },
  {
   "cell_type": "code",
   "execution_count": null,
   "metadata": {},
   "outputs": [],
   "source": [
    "# Transform expression into a cluster-distance space and visualize the results using sns.scatterplot\n"
   ]
  },
  {
   "cell_type": "markdown",
   "metadata": {},
   "source": [
    "## Task 5\n",
    "\n",
    "Supervised learning is a technique to teach an algorithm to distinguish between previously labelled groups, such as Tissue, Gender, or Disease.status. However, all supervised methods require data to learn how to differentiate between classes. Therefore, it is necessary to separate data into test/train sets. The training set is used to train the model, while the test set is used to evaluate performance. Cross-validation, a method of partitioning the data into disjoint subsets and continually re-training and re-testing with different partition combinations, is often used to evaluate models. In this section, we will build various classifiers using logistic regression to predict different classes from our data. You should evaluate your models’ performances using confusion matrices and accuracy scores."
   ]
  },
  {
   "cell_type": "code",
   "execution_count": null,
   "metadata": {},
   "outputs": [],
   "source": [
    "# Refer to https://scikit-learn.org/stable/modules/generated/sklearn.linear_model.LogisticRegression.html\n",
    "from sklearn.linear_model import LogisticRegression, LogisticRegressionCV\n",
    "from sklearn.model_selection import train_test_split"
   ]
  },
  {
   "cell_type": "code",
   "execution_count": null,
   "metadata": {},
   "outputs": [],
   "source": [
    "# Set the \"target\" of the classifier (either \"Disease.state\" or \"Tissue\")\n"
   ]
  },
  {
   "cell_type": "code",
   "execution_count": null,
   "metadata": {},
   "outputs": [],
   "source": [
    "# Split the data into training and test subsets with test_size=.25 and stratify using target\n"
   ]
  },
  {
   "cell_type": "code",
   "execution_count": null,
   "metadata": {},
   "outputs": [],
   "source": [
    "# Initialize the LogisticRegression class with solve=\"lbfgs\" and multi_class=\"auto\"\n",
    "\n",
    "# Fit and predict\n"
   ]
  },
  {
   "cell_type": "code",
   "execution_count": null,
   "metadata": {},
   "outputs": [],
   "source": [
    "# What is the accuracy score of the test data?\n"
   ]
  },
  {
   "cell_type": "code",
   "execution_count": null,
   "metadata": {},
   "outputs": [],
   "source": [
    "# Confusion matrix\n",
    "from sklearn.metrics import confusion_matrix\n"
   ]
  },
  {
   "cell_type": "code",
   "execution_count": null,
   "metadata": {},
   "outputs": [],
   "source": [
    "# Refer to https://scikit-learn.org/stable/modules/generated/sklearn.model_selection.cross_validate.html\n",
    "from sklearn.model_selection import cross_val_score"
   ]
  },
  {
   "cell_type": "code",
   "execution_count": null,
   "metadata": {},
   "outputs": [],
   "source": [
    "# Perform a 5 fold cross validation on the model\n"
   ]
  },
  {
   "cell_type": "code",
   "execution_count": null,
   "metadata": {},
   "outputs": [],
   "source": [
    "# Cross validation results\n"
   ]
  },
  {
   "cell_type": "code",
   "execution_count": 6,
   "metadata": {},
   "outputs": [],
   "source": [
    "# Initialize a Multi-layer Perceptron (MLP) model with the parameters alpha=0.001, max_iter=10000, \n",
    "# activation='logistic',\"tanh\" and \"identity\". Obtain an accuracy score.\n",
    "from sklearn.neural_network import MLPClassifier"
   ]
  },
  {
   "cell_type": "code",
   "execution_count": 7,
   "metadata": {},
   "outputs": [],
   "source": [
    "# Initialize a Random Forest model with the parameters max_depth=5, n_estimators=10, max_features=1. Obtain an accuracy score.\n",
    "from sklearn.ensemble import RandomForestClassifier"
   ]
  },
  {
   "cell_type": "code",
   "execution_count": 8,
   "metadata": {},
   "outputs": [],
   "source": [
    "# Initialize K Neighbors Classifier model. Obtain an accuracy score.\n",
    "from sklearn.neighbors import KNeighborsClassifier"
   ]
  },
  {
   "cell_type": "code",
   "execution_count": null,
   "metadata": {},
   "outputs": [],
   "source": [
    "# Scale the features with StandartScaler and rerun the previous models.\n",
    "from sklearn import preprocessing\n",
    "from sklearn.preprocessing import StandardScaler"
   ]
  }
 ],
 "metadata": {
  "kernelspec": {
   "display_name": "Python 3",
   "language": "python",
   "name": "python3"
  },
  "language_info": {
   "codemirror_mode": {
    "name": "ipython",
    "version": 3
   },
   "file_extension": ".py",
   "mimetype": "text/x-python",
   "name": "python",
   "nbconvert_exporter": "python",
   "pygments_lexer": "ipython3",
   "version": "3.8.10"
  }
 },
 "nbformat": 4,
 "nbformat_minor": 2
}
